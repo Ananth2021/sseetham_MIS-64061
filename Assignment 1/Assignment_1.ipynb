{
 "cells": [
  {
   "cell_type": "markdown",
   "metadata": {},
   "source": [
    "                                         Assignment 1 , Neural network: "
   ]
  },
  {
   "cell_type": "code",
   "execution_count": 1,
   "metadata": {},
   "outputs": [],
   "source": [
    "from tensorflow.keras.datasets import imdb\n",
    "(train_data, train_labels), (test_data, test_labels) = imdb.load_data(\n",
    "    num_words=10000)"
   ]
  },
  {
   "cell_type": "code",
   "execution_count": 3,
   "metadata": {},
   "outputs": [
    {
     "data": {
      "text/plain": [
       "[1,\n",
       " 14,\n",
       " 22,\n",
       " 16,\n",
       " 43,\n",
       " 530,\n",
       " 973,\n",
       " 1622,\n",
       " 1385,\n",
       " 65,\n",
       " 458,\n",
       " 4468,\n",
       " 66,\n",
       " 3941,\n",
       " 4,\n",
       " 173,\n",
       " 36,\n",
       " 256,\n",
       " 5,\n",
       " 25,\n",
       " 100,\n",
       " 43,\n",
       " 838,\n",
       " 112,\n",
       " 50,\n",
       " 670,\n",
       " 2,\n",
       " 9,\n",
       " 35,\n",
       " 480,\n",
       " 284,\n",
       " 5,\n",
       " 150,\n",
       " 4,\n",
       " 172,\n",
       " 112,\n",
       " 167,\n",
       " 2,\n",
       " 336,\n",
       " 385,\n",
       " 39,\n",
       " 4,\n",
       " 172,\n",
       " 4536,\n",
       " 1111,\n",
       " 17,\n",
       " 546,\n",
       " 38,\n",
       " 13,\n",
       " 447,\n",
       " 4,\n",
       " 192,\n",
       " 50,\n",
       " 16,\n",
       " 6,\n",
       " 147,\n",
       " 2025,\n",
       " 19,\n",
       " 14,\n",
       " 22,\n",
       " 4,\n",
       " 1920,\n",
       " 4613,\n",
       " 469,\n",
       " 4,\n",
       " 22,\n",
       " 71,\n",
       " 87,\n",
       " 12,\n",
       " 16,\n",
       " 43,\n",
       " 530,\n",
       " 38,\n",
       " 76,\n",
       " 15,\n",
       " 13,\n",
       " 1247,\n",
       " 4,\n",
       " 22,\n",
       " 17,\n",
       " 515,\n",
       " 17,\n",
       " 12,\n",
       " 16,\n",
       " 626,\n",
       " 18,\n",
       " 2,\n",
       " 5,\n",
       " 62,\n",
       " 386,\n",
       " 12,\n",
       " 8,\n",
       " 316,\n",
       " 8,\n",
       " 106,\n",
       " 5,\n",
       " 4,\n",
       " 2223,\n",
       " 5244,\n",
       " 16,\n",
       " 480,\n",
       " 66,\n",
       " 3785,\n",
       " 33,\n",
       " 4,\n",
       " 130,\n",
       " 12,\n",
       " 16,\n",
       " 38,\n",
       " 619,\n",
       " 5,\n",
       " 25,\n",
       " 124,\n",
       " 51,\n",
       " 36,\n",
       " 135,\n",
       " 48,\n",
       " 25,\n",
       " 1415,\n",
       " 33,\n",
       " 6,\n",
       " 22,\n",
       " 12,\n",
       " 215,\n",
       " 28,\n",
       " 77,\n",
       " 52,\n",
       " 5,\n",
       " 14,\n",
       " 407,\n",
       " 16,\n",
       " 82,\n",
       " 2,\n",
       " 8,\n",
       " 4,\n",
       " 107,\n",
       " 117,\n",
       " 5952,\n",
       " 15,\n",
       " 256,\n",
       " 4,\n",
       " 2,\n",
       " 7,\n",
       " 3766,\n",
       " 5,\n",
       " 723,\n",
       " 36,\n",
       " 71,\n",
       " 43,\n",
       " 530,\n",
       " 476,\n",
       " 26,\n",
       " 400,\n",
       " 317,\n",
       " 46,\n",
       " 7,\n",
       " 4,\n",
       " 2,\n",
       " 1029,\n",
       " 13,\n",
       " 104,\n",
       " 88,\n",
       " 4,\n",
       " 381,\n",
       " 15,\n",
       " 297,\n",
       " 98,\n",
       " 32,\n",
       " 2071,\n",
       " 56,\n",
       " 26,\n",
       " 141,\n",
       " 6,\n",
       " 194,\n",
       " 7486,\n",
       " 18,\n",
       " 4,\n",
       " 226,\n",
       " 22,\n",
       " 21,\n",
       " 134,\n",
       " 476,\n",
       " 26,\n",
       " 480,\n",
       " 5,\n",
       " 144,\n",
       " 30,\n",
       " 5535,\n",
       " 18,\n",
       " 51,\n",
       " 36,\n",
       " 28,\n",
       " 224,\n",
       " 92,\n",
       " 25,\n",
       " 104,\n",
       " 4,\n",
       " 226,\n",
       " 65,\n",
       " 16,\n",
       " 38,\n",
       " 1334,\n",
       " 88,\n",
       " 12,\n",
       " 16,\n",
       " 283,\n",
       " 5,\n",
       " 16,\n",
       " 4472,\n",
       " 113,\n",
       " 103,\n",
       " 32,\n",
       " 15,\n",
       " 16,\n",
       " 5345,\n",
       " 19,\n",
       " 178,\n",
       " 32]"
      ]
     },
     "execution_count": 3,
     "metadata": {},
     "output_type": "execute_result"
    }
   ],
   "source": [
    "train_data[0]"
   ]
  },
  {
   "cell_type": "code",
   "execution_count": 4,
   "metadata": {},
   "outputs": [
    {
     "data": {
      "text/plain": [
       "1"
      ]
     },
     "execution_count": 4,
     "metadata": {},
     "output_type": "execute_result"
    }
   ],
   "source": [
    "train_labels[0]"
   ]
  },
  {
   "cell_type": "code",
   "execution_count": 5,
   "metadata": {},
   "outputs": [
    {
     "data": {
      "text/plain": [
       "9999"
      ]
     },
     "execution_count": 5,
     "metadata": {},
     "output_type": "execute_result"
    }
   ],
   "source": [
    "max([max(sequence) for sequence in train_data])"
   ]
  },
  {
   "cell_type": "code",
   "execution_count": 6,
   "metadata": {},
   "outputs": [],
   "source": [
    "word_index = imdb.get_word_index()\n",
    "reverse_word_index = dict(\n",
    "    [(value, key) for (key, value) in word_index.items()])\n",
    "decoded_review = \" \".join(\n",
    "    [reverse_word_index.get(i - 3, \"?\") for i in train_data[0]])"
   ]
  },
  {
   "cell_type": "code",
   "execution_count": 7,
   "metadata": {},
   "outputs": [],
   "source": [
    "import numpy as np\n",
    "def vectorize_sequences(sequences, dimension=10000):\n",
    "    results = np.zeros((len(sequences), dimension))\n",
    "    for i, sequence in enumerate(sequences):\n",
    "        for j in sequence:\n",
    "            results[i, j] = 1.\n",
    "    return results\n",
    "x_train = vectorize_sequences(train_data)\n",
    "x_test = vectorize_sequences(test_data)"
   ]
  },
  {
   "cell_type": "code",
   "execution_count": 8,
   "metadata": {},
   "outputs": [
    {
     "data": {
      "text/plain": [
       "array([0., 1., 1., ..., 0., 0., 0.])"
      ]
     },
     "execution_count": 8,
     "metadata": {},
     "output_type": "execute_result"
    }
   ],
   "source": [
    "x_train[0]"
   ]
  },
  {
   "cell_type": "code",
   "execution_count": 9,
   "metadata": {},
   "outputs": [],
   "source": [
    "y_train = np.asarray(train_labels).astype(\"float32\")\n",
    "y_test = np.asarray(test_labels).astype(\"float32\")"
   ]
  },
  {
   "cell_type": "markdown",
   "metadata": {},
   "source": [
    "The below chunk in used to create layers for the model, I have chosen 3 layers with only 64 nodes as the model overfittis if there is another layer or choosing nodes higher than 64.\n",
    "\n",
    "The activation function tanh can be used as a non-linear activation function between layers of a neural network. It shares a few things in common with the sigmoid activation function. Unlike a sigmoid function that will map input values between 0 and 1, the Tanh will map values between -1 and 1.\n",
    "\n",
    "I have implemented regularization while creating layers, it will pinalize the model with penalty in the parentheese(WEIGHT DECAY) to keep it as simple as possible. I have tried different weights and 0.005 seems to make the model as simple as possible. "
   ]
  },
  {
   "cell_type": "code",
   "execution_count": 220,
   "metadata": {},
   "outputs": [],
   "source": [
    "from tensorflow import keras\n",
    "from tensorflow.keras import layers\n",
    "from tensorflow.keras import regularizers\n",
    "\n",
    "model = keras.Sequential([\n",
    "    layers.Dense(64,kernel_regularizer=regularizers.l2(0.005), activation=\"tanh\"),\n",
    "    layers.Dense(64,kernel_regularizer=regularizers.l2(0.005), activation=\"tanh\"),\n",
    "    layers.Dense(64,kernel_regularizer=regularizers.l2(0.005), activation=\"tanh\"),\n",
    "    layers.Dense(1, activation=\"sigmoid\")\n",
    "])\n",
    "\n",
    "\n"
   ]
  },
  {
   "cell_type": "markdown",
   "metadata": {},
   "source": [
    "Binary cross entropy loss function measure the performance of a classification model whose output is a probability value between 0 and 1. It is preferred for classification, while mean squared error (MSE) is one of the best choices for regression.\n",
    "\n",
    "MSE calculatetells you how close a regression line is to a set of points. It does this by taking the distances from the points to the regression line and squaring them. The squaring is necessary to remove any negative signs."
   ]
  },
  {
   "cell_type": "code",
   "execution_count": 221,
   "metadata": {},
   "outputs": [],
   "source": [
    "model.compile(optimizer=\"rmsprop\",\n",
    "              loss=\"mse\",\n",
    "              metrics=[\"accuracy\"])"
   ]
  },
  {
   "cell_type": "code",
   "execution_count": 222,
   "metadata": {},
   "outputs": [],
   "source": [
    "x_val = x_train[:10000]\n",
    "partial_x_train = x_train[10000:]\n",
    "y_val = y_train[:10000]\n",
    "partial_y_train = y_train[10000:]"
   ]
  },
  {
   "cell_type": "code",
   "execution_count": null,
   "metadata": {},
   "outputs": [],
   "source": [
    "the model will go over the data 20 times whith each batch size 512."
   ]
  },
  {
   "cell_type": "code",
   "execution_count": 223,
   "metadata": {},
   "outputs": [
    {
     "name": "stdout",
     "output_type": "stream",
     "text": [
      "Epoch 1/20\n",
      "30/30 [==============================] - 6s 163ms/step - loss: 0.8274 - accuracy: 0.7519 - val_loss: 0.6086 - val_accuracy: 0.7840\n",
      "Epoch 2/20\n",
      "30/30 [==============================] - 1s 46ms/step - loss: 0.4936 - accuracy: 0.8505 - val_loss: 0.4223 - val_accuracy: 0.8384\n",
      "Epoch 3/20\n",
      "30/30 [==============================] - 1s 47ms/step - loss: 0.3528 - accuracy: 0.8676 - val_loss: 0.2904 - val_accuracy: 0.8810\n",
      "Epoch 4/20\n",
      "30/30 [==============================] - 1s 49ms/step - loss: 0.2555 - accuracy: 0.8788 - val_loss: 0.2349 - val_accuracy: 0.8530\n",
      "Epoch 5/20\n",
      "30/30 [==============================] - 2s 62ms/step - loss: 0.1918 - accuracy: 0.8881 - val_loss: 0.1773 - val_accuracy: 0.8733\n",
      "Epoch 6/20\n",
      "30/30 [==============================] - 2s 60ms/step - loss: 0.1557 - accuracy: 0.8917 - val_loss: 0.1513 - val_accuracy: 0.8813\n",
      "Epoch 7/20\n",
      "30/30 [==============================] - 2s 53ms/step - loss: 0.1325 - accuracy: 0.9021 - val_loss: 0.1519 - val_accuracy: 0.8611\n",
      "Epoch 8/20\n",
      "30/30 [==============================] - 2s 54ms/step - loss: 0.1209 - accuracy: 0.9093 - val_loss: 0.1329 - val_accuracy: 0.8847\n",
      "Epoch 9/20\n",
      "30/30 [==============================] - 1s 43ms/step - loss: 0.1122 - accuracy: 0.9193 - val_loss: 0.1428 - val_accuracy: 0.8657\n",
      "Epoch 10/20\n",
      "30/30 [==============================] - 1s 43ms/step - loss: 0.1124 - accuracy: 0.9143 - val_loss: 0.1316 - val_accuracy: 0.8778\n",
      "Epoch 11/20\n",
      "30/30 [==============================] - 1s 42ms/step - loss: 0.1085 - accuracy: 0.9187 - val_loss: 0.1324 - val_accuracy: 0.8778\n",
      "Epoch 12/20\n",
      "30/30 [==============================] - 1s 42ms/step - loss: 0.1053 - accuracy: 0.9220 - val_loss: 0.1455 - val_accuracy: 0.8532\n",
      "Epoch 13/20\n",
      "30/30 [==============================] - 1s 44ms/step - loss: 0.1040 - accuracy: 0.9225 - val_loss: 0.1293 - val_accuracy: 0.8809\n",
      "Epoch 14/20\n",
      "30/30 [==============================] - 1s 43ms/step - loss: 0.0985 - accuracy: 0.9305 - val_loss: 0.1305 - val_accuracy: 0.8776\n",
      "Epoch 15/20\n",
      "30/30 [==============================] - 1s 44ms/step - loss: 0.0986 - accuracy: 0.9278 - val_loss: 0.1302 - val_accuracy: 0.8782\n",
      "Epoch 16/20\n",
      "30/30 [==============================] - 2s 53ms/step - loss: 0.0976 - accuracy: 0.9293 - val_loss: 0.1264 - val_accuracy: 0.8796\n",
      "Epoch 17/20\n",
      "30/30 [==============================] - 2s 54ms/step - loss: 0.0946 - accuracy: 0.9343 - val_loss: 0.1411 - val_accuracy: 0.8624\n",
      "Epoch 18/20\n",
      "30/30 [==============================] - 1s 41ms/step - loss: 0.0916 - accuracy: 0.9385 - val_loss: 0.1316 - val_accuracy: 0.8723\n",
      "Epoch 19/20\n",
      "30/30 [==============================] - 1s 41ms/step - loss: 0.0901 - accuracy: 0.9393 - val_loss: 0.1573 - val_accuracy: 0.8379\n",
      "Epoch 20/20\n",
      "30/30 [==============================] - 2s 53ms/step - loss: 0.0926 - accuracy: 0.9339 - val_loss: 0.1245 - val_accuracy: 0.8795\n"
     ]
    }
   ],
   "source": [
    "history = model.fit(partial_x_train,\n",
    "                    partial_y_train,\n",
    "                    epochs=20,\n",
    "                    batch_size=512,\n",
    "                    validation_data=(x_val, y_val))"
   ]
  },
  {
   "cell_type": "code",
   "execution_count": 224,
   "metadata": {},
   "outputs": [
    {
     "data": {
      "text/plain": [
       "dict_keys(['loss', 'accuracy', 'val_loss', 'val_accuracy'])"
      ]
     },
     "execution_count": 224,
     "metadata": {},
     "output_type": "execute_result"
    }
   ],
   "source": [
    "history_dict = history.history\n",
    "history_dict.keys()"
   ]
  },
  {
   "cell_type": "markdown",
   "metadata": {},
   "source": [
    "Summary for validation loss: \n",
    "    \n",
    "16 Nodes 2 layers(relu) with no regularization: MSE VS Binary Cross Entropy\n",
    "    \n",
    "    When compared with Training and validation loss, I observed that the Validation loss in Cross entropy has decreased till certain level and risen drastically. \n",
    "    In MSE the validation loss is less when compared to the Cross entrophy, but eventually both the models have high validation loss but the rate of loss is higher in Binary cross entrophy when compared with MSE both of the models leads to overfitting.\n",
    "    \n",
    "    \n",
    "16 Nodes 3 layers(tanh) with no regularization: MSE VS Binary Cross Entropy\n",
    "    \n",
    "    In Binary Cross entorpy model the Validation loss started from 0.3 and kept on decreasing till 4 epoch and then there is sharp rise in the loss as the epoch reaches to 20.\n",
    "    But in MSE the Valid loss started from .10 and decreased to 0.8 up until the 3 epoch and the loss kept increasing steadily but did not reach 100 % loss. The final loss persent is around 0.12. which is better than Binary CE. \n",
    "    \n",
    "\n",
    "32 Nodes, 3 layers (tanh)\n",
    "\n",
    "    For 3 layers with 32 modes, the BCE validation loss started at 0.4 and quick and sharp rise till reaching 1.0 there is no decrease at all. \n",
    "    But for MSE model the loss rate started at the 0.10 and there is similar rise in validation loss but the loss reduced at epoch 7 and then slow rise till the final loss value is recorded as 0.13\n",
    "\n",
    "\n",
    "32 Nodes, 3 layers (relu)\n",
    "\n",
    "    Relu function is kind of tricky for the loss functions, In the case for BCE the validation loss has reduced until 3 epochs and sharp and steady rise with the recorded value is at 100 % \n",
    "    but for MSE, there is some reduction in validation loss till 4 epoach and then is a straing slightly increasing manner like line and the recorded value is at exactly where it has started around 0.12\n",
    "\n",
    "64 Nodes, 3 layers (relu) : \n",
    "    \n",
    "    In comparision with the 16, 32 nodes per layer 64 nodes seems to be efficient in reducing the validation loss. The initial loss starts around 0.2-0.3 which is better than models which has 32 or 16 nodes per layer. \n",
    "    \n",
    "    The loss for the MSE model is in zig zag pattern, the loss seems to be reduced at certain epoch and increases in the next and the same cycle continue till the end of epoch. But the validation loss did not reach upto 1\n",
    "    \n",
    "    As for BCE the loss started at 0.3 and there is steady increasing loss as the epoch progress.\n",
    "\n",
    "    \n",
    "64 Nodes, 3 layers (tanh) :\n",
    "    \n",
    "    The MSE loss is the same as relu which closely follow the zig zag pattern, the models loss is decreasing at lenght and same sharp increase as the epoch run\n",
    "    For the BCE, the loss percent start at 0.3 and similar pattern of loss increase is observered, with steady line till the loss is at 1.0\n",
    "    \n",
    "    \n",
    "64 Nodes, 3 layers (tanh) with regularization l2:\n",
    "    \n",
    "    With the usage of regularization for MSE with hyper parameter as (0.05), we can see that the models complexity has been descreased when compared to the models which does not have a regularization by checking the training loss which has been low at the end end of epoch iteration.the training and validation loss seems to be parallel to each other with some difference.The validation loss has decreased till epoch 6 and stabilized more like a flatline. \n",
    "    As for the Binary cross entropy, the regularization seems to be having less affect on validation loss, the loss seems to decrease and there is a rise  and the ending loss is around 0.6\n",
    "    \n",
    "    At epoch 8 the validation loss seems to be increased. hence using epoch 8 as cut off. using 8 epoch in testing model\n",
    "    \n",
    "    In general,The model is overfitting with different setting and the number of epoch for just a right model have varied as well.But choosing the appropriate layers and nodes for the model depends upon the business problem that we are trying to solve.\n",
    "    \n",
    "    I only choose 64 nodes as in class if we increase the number of nodes, \n",
    "    "
   ]
  },
  {
   "cell_type": "code",
   "execution_count": 225,
   "metadata": {
    "scrolled": true
   },
   "outputs": [
    {
     "data": {
      "image/png": "[encoded data removed]",
      "text/plain": [
       "<Figure size 432x288 with 1 Axes>"
      ]
     },
     "metadata": {
      "needs_background": "light"
     },
     "output_type": "display_data"
    }
   ],
   "source": [
    "import matplotlib.pyplot as plt\n",
    "history_dict = history.history\n",
    "loss_values = history_dict[\"loss\"]\n",
    "val_loss_values = history_dict[\"val_loss\"]\n",
    "epochs = range(1, len(loss_values) + 1)\n",
    "plt.plot(epochs, loss_values, \"bo\", label=\"Training loss\")\n",
    "plt.plot(epochs, val_loss_values, \"b\", label=\"Validation loss\")\n",
    "plt.title(\"Training and validation loss\")\n",
    "plt.xlabel(\"Epochs\")\n",
    "plt.ylabel(\"Loss\")\n",
    "plt.legend()\n",
    "plt.show()"
   ]
  },
  {
   "cell_type": "code",
   "execution_count": 226,
   "metadata": {},
   "outputs": [
    {
     "data": {
      "image/png": "[encoded data removed]",
      "text/plain": [
       "<Figure size 432x288 with 1 Axes>"
      ]
     },
     "metadata": {
      "needs_background": "light"
     },
     "output_type": "display_data"
    }
   ],
   "source": [
    "plt.clf()\n",
    "acc = history_dict[\"accuracy\"]\n",
    "val_acc = history_dict[\"val_accuracy\"]\n",
    "plt.plot(epochs, acc, \"bo\", label=\"Training acc\")\n",
    "plt.plot(epochs, val_acc, \"b\", label=\"Validation acc\")\n",
    "plt.title(\"Training and validation accuracy\")\n",
    "plt.xlabel(\"Epochs\")\n",
    "plt.ylabel(\"Accuracy\")\n",
    "plt.legend()\n",
    "plt.show()"
   ]
  },
  {
   "cell_type": "markdown",
   "metadata": {},
   "source": [
    "Summary for Validation accuracy and training accuracy: \n",
    "    \n",
    "64 Nodes, 3 layers (tanh) with regularization l2:\n",
    "\n",
    "        The training accuracy ended up being close to 95 % where as the validation accuracy for the models is at 88 %. There are lots ups and downs for the validation. By this we can analyse that there is meaning full difference in the data which is used for training and the data used for validation. This can be avoided by using stratified sampling.\n",
    "        \n",
    "32 Nodes, 3 layers (tanh) with regularization l2:\n",
    "\n",
    "    Initially the validation accuracy seems to be decreased, then it has rised to 87% and after a series of ups and downs ended bup to the same high point. Training accuracy remains to raise steadily with max accuracy at 97.5%\n",
    "    \n",
    "16 Nodes, 3 layers (tanh) with regularization l2:\n",
    "\n",
    "    For the 16 nodes MSE model the accuracy of the validation seems to right upto a certain point and then drastically decreased. By the end of epoch 20 the validation accuracy decreased, if the epoch extended then the validation might decrease further.\n",
    "    \n",
    "    Observation: through out these models, the model which has higher nodes seems to have stable model. The training accuracy for all these models remaines to be higher.\n"
   ]
  },
  {
   "cell_type": "code",
   "execution_count": 237,
   "metadata": {},
   "outputs": [
    {
     "name": "stdout",
     "output_type": "stream",
     "text": [
      "Epoch 1/8\n",
      "49/49 [==============================] - 3s 35ms/step - loss: 0.7513 - accuracy: 0.8396\n",
      "Epoch 2/8\n",
      "49/49 [==============================] - 2s 33ms/step - loss: 0.3617 - accuracy: 0.8896\n",
      "Epoch 3/8\n",
      "49/49 [==============================] - 2s 33ms/step - loss: 0.2303 - accuracy: 0.8964\n",
      "Epoch 4/8\n",
      "49/49 [==============================] - 1s 30ms/step - loss: 0.1677 - accuracy: 0.9006\n",
      "Epoch 5/8\n",
      "49/49 [==============================] - 2s 32ms/step - loss: 0.1382 - accuracy: 0.9042\n",
      "Epoch 6/8\n",
      "49/49 [==============================] - 2s 31ms/step - loss: 0.1227 - accuracy: 0.9116\n",
      "Epoch 7/8\n",
      "49/49 [==============================] - 2s 38ms/step - loss: 0.1158 - accuracy: 0.9131\n",
      "Epoch 8/8\n",
      "49/49 [==============================] - 2s 38ms/step - loss: 0.1116 - accuracy: 0.9149\n",
      "782/782 [==============================] - 6s 6ms/step - loss: 0.1302 - accuracy: 0.8813\n"
     ]
    }
   ],
   "source": [
    "model = keras.Sequential([\n",
    "    layers.Dense(64,kernel_regularizer=regularizers.l2(0.005), activation=\"tanh\"),\n",
    "    layers.Dense(64,kernel_regularizer=regularizers.l2(0.005), activation=\"tanh\"),\n",
    "    layers.Dense(64,kernel_regularizer=regularizers.l2(0.005), activation=\"tanh\"),\n",
    "\n",
    "    layers.Dense(1, activation=\"sigmoid\")\n",
    "])\n",
    "model.compile(optimizer=\"adam\",\n",
    "              loss=\"mse\",\n",
    "              metrics=[\"accuracy\"])\n",
    "model.fit(x_train, y_train, epochs=8, batch_size=512)\n",
    "results = model.evaluate(x_test, y_test)\n"
   ]
  },
  {
   "cell_type": "code",
   "execution_count": 235,
   "metadata": {},
   "outputs": [
    {
     "data": {
      "text/plain": [
       "[0.10562130808830261, 0.8697599768638611]"
      ]
     },
     "execution_count": 235,
     "metadata": {},
     "output_type": "execute_result"
    }
   ],
   "source": [
    "results\n"
   ]
  },
  {
   "cell_type": "markdown",
   "metadata": {},
   "source": [
    "Summary for test accuracy: \n",
    "    \n",
    "\n",
    "\n",
    "3 layers with 64 nodes(relu) with binary cross entropy as loss function,epoch=8: \n",
    "        The test accuracy stands at 88.26 and the loss at the rate:12.44 \n",
    "               \n",
    "  The test loss for the 3 layer with 64 hidden nodes has the lowest loss rate at 10.56 and the test accuracy on unseen test data is at 86.98. \n",
    "  \n",
    "  In comaprision with the other models with less layers and hidden nodes the model with 3 hidden layers with l2 regularizer (0.005) and 64 hidden nodes seems to be have less loss rate across validation and test, which maintining less complex model and training and test accuracy. \n",
    "     \n",
    "  \n",
    "I have only used regularization in model building, if we can use both regularization and drop out value, the model accuracy might improve and loss function might minimize. Another observation is the optimizer instead of adam, I have used rmsprop. Adam might improve the optimization of the model which might lead to different results.\n",
    "\n",
    "In fact if adam is used as optimizer then the loss is at 13.02 and accuracy is at 88.13 which is comparitively less than rmsprop\n",
    "\n",
    "\n",
    "\n",
    "    "
   ]
  }
 ],
 "metadata": {
  "kernelspec": {
   "display_name": "Python 3",
   "language": "python",
   "name": "python3"
  },
  "language_info": {
   "codemirror_mode": {
    "name": "ipython",
    "version": 3
   },
   "file_extension": ".py",
   "mimetype": "text/x-python",
   "name": "python",
   "nbconvert_exporter": "python",
   "pygments_lexer": "ipython3",
   "version": "3.8.3"
  }
 },
 "nbformat": 4,
 "nbformat_minor": 4
}
